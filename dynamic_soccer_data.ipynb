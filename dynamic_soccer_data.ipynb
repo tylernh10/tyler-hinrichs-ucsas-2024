{
 "cells": [
  {
   "cell_type": "code",
   "execution_count": null,
   "metadata": {},
   "outputs": [],
   "source": [
    "%pip install selenium"
   ]
  },
  {
   "cell_type": "code",
   "execution_count": 2,
   "metadata": {},
   "outputs": [],
   "source": [
    "from selenium import webdriver\n",
    "from selenium.webdriver.chrome.service import Service"
   ]
  },
  {
   "cell_type": "code",
   "execution_count": 3,
   "metadata": {},
   "outputs": [],
   "source": [
    "results_url = \"https://www.premierleague.com/results\""
   ]
  },
  {
   "cell_type": "code",
   "execution_count": 4,
   "metadata": {},
   "outputs": [],
   "source": [
    "def get_driver(headless: bool = False):\n",
    "    # Path to the chromedriver executable\n",
    "    chromedriver_path = './chromedriver.exe'\n",
    "\n",
    "    # Set headless mode if specified\n",
    "    options = webdriver.ChromeOptions()\n",
    "    if headless:\n",
    "        options.add_argument('--headless')\n",
    "\n",
    "    # Start and return the chrome insance\n",
    "    return webdriver.Chrome(service=Service(executable_path=chromedriver_path), options=options)"
   ]
  },
  {
   "cell_type": "code",
   "execution_count": 5,
   "metadata": {},
   "outputs": [],
   "source": [
    "driver = get_driver()\n",
    "\n",
    "# Navigate to the url\n",
    "driver.get(results_url)\n",
    "\n",
    "# Quit the driver\n",
    "driver.quit()"
   ]
  },
  {
   "cell_type": "markdown",
   "metadata": {},
   "source": [
    "Using the \"By\" class, we can access elements by many different methods:\n",
    "ID = \"id\"\n",
    "NAME = \"name\"\n",
    "XPATH = \"xpath\"\n",
    "LINK_TEXT = \"link text\"\n",
    "PARTIAL_LINK_TEXT = \"partial link text\"\n",
    "TAG_NAME = \"tag name\"\n",
    "CLASS_NAME = \"class name\"\n",
    "CSS_SELECTOR = \"css selector\""
   ]
  },
  {
   "cell_type": "code",
   "execution_count": 6,
   "metadata": {},
   "outputs": [],
   "source": [
    "from selenium.webdriver.common.by import By"
   ]
  },
  {
   "cell_type": "code",
   "execution_count": 7,
   "metadata": {},
   "outputs": [],
   "source": [
    "# using find_element() and click() APIs\n",
    "driver = get_driver()\n",
    "driver.get(results_url)\n",
    "\n",
    "accept_cookies_id, close_advert_id = \"onetrust-accept-btn-handler\", \"advertClose\"\n",
    "\n",
    "driver.find_element(By.ID, accept_cookies_id).click()\n",
    "driver.find_element(By.ID, close_advert_id).click()\n",
    "\n",
    "driver.quit()"
   ]
  },
  {
   "cell_type": "markdown",
   "metadata": {},
   "source": [
    "### Explicit and Implicit Waits\n",
    "\n",
    "Explicit - Wait a specific amount of time to find a certain element\n",
    "Implicit - When finding any element, wait a certain amount of time\n",
    "\n",
    "Use explicit - gives us more customization over the code, and can avoid problems from wait times being too great or too little on individual cases.\n",
    "\n",
    "### Expected Conditions\n",
    "\n",
    "Can be used in conjuntion with waits - we wait EITHER for an expected condition to be true, or until the time limit is exceeded.\n",
    "\n",
    "Examples of Expected Conditions (EC):\n",
    "- title_is\n",
    "- title_contains\n",
    "- presence_of_element_located\n"
   ]
  },
  {
   "cell_type": "code",
   "execution_count": 8,
   "metadata": {},
   "outputs": [],
   "source": [
    "from selenium.webdriver.support.wait import WebDriverWait\n",
    "from selenium.webdriver.support import expected_conditions as EC\n",
    "\n",
    "driver = get_driver()\n",
    "driver.get(results_url)\n",
    "\n",
    "accept_cookies_id, close_advert_id, invalid_element_id = \"onetrust-accept-btn-handler\", \"advertClose\", \"not-an-element\"\n",
    "\n",
    "try:\n",
    "    accept_cookies_element = WebDriverWait(driver, 10).until(\n",
    "        EC.presence_of_element_located((By.ID, accept_cookies_id))\n",
    "    ).click()\n",
    "\n",
    "    close_advert_element = WebDriverWait(driver, 10).until(\n",
    "        EC.presence_of_element_located((By.ID, close_advert_id))\n",
    "    ).click()\n",
    "\n",
    "    # THE CODE BELOW WILL NOT WORK\n",
    "    # Keep it uncommented to see how an invalid element will fail with this code\n",
    "    # invalid_element = WebDriverWait(driver, 10).until(\n",
    "    #     EC.presence_of_element_located((By.ID, invalid_element_id))\n",
    "    # ).click()\n",
    "finally:\n",
    "    driver.quit()"
   ]
  },
  {
   "cell_type": "markdown",
   "metadata": {},
   "source": [
    "# Using XPaths\n",
    "We can also parse through the DOM with XPaths.\n",
    "\n",
    "More information: \n",
    "- https://www.w3schools.com/xml/xpath_intro.asp\n",
    "- https://scrapfly.io/blog/parsing-html-with-xpath/\n",
    "\n",
    "# Scrolling using ActionChains\n",
    "We can use the ActionChains library for various actions in the browser."
   ]
  },
  {
   "cell_type": "code",
   "execution_count": 34,
   "metadata": {},
   "outputs": [
    {
     "name": "stdout",
     "output_type": "stream",
     "text": [
      "                          date           home            away home_score   \n",
      "0     Tuesday 20 February 2024       Man City       Brentford          1  \\\n",
      "1      Monday 19 February 2024        Everton  Crystal Palace          1   \n",
      "2      Sunday 18 February 2024  Sheffield Utd        Brighton          0   \n",
      "3      Sunday 18 February 2024          Luton         Man Utd          1   \n",
      "4    Saturday 17 February 2024      Brentford       Liverpool          1   \n",
      "..                         ...            ...             ...        ...   \n",
      "244    Saturday 12 August 2023       Brighton           Luton          4   \n",
      "245    Saturday 12 August 2023        Everton          Fulham          0   \n",
      "246    Saturday 12 August 2023  Sheffield Utd  Crystal Palace          0   \n",
      "247    Saturday 12 August 2023      Newcastle     Aston Villa          5   \n",
      "248      Friday 11 August 2023        Burnley        Man City          0   \n",
      "\n",
      "    away_score                             stadium  \n",
      "0            0          Etihad Stadium, Manchester  \n",
      "1            1            Goodison Park, Liverpool  \n",
      "2            5             Bramall Lane, Sheffield  \n",
      "3            2              Kenilworth Road, Luton  \n",
      "4            4  Gtech Community Stadium, Brentford  \n",
      "..         ...                                 ...  \n",
      "244          1    American Express Stadium, Falmer  \n",
      "245          1            Goodison Park, Liverpool  \n",
      "246          1             Bramall Lane, Sheffield  \n",
      "247          1          St. James' Park, Newcastle  \n",
      "248          3                  Turf Moor, Burnley  \n",
      "\n",
      "[249 rows x 6 columns]\n"
     ]
    }
   ],
   "source": [
    "from selenium.webdriver.common.action_chains import ActionChains\n",
    "from bs4 import BeautifulSoup as bs\n",
    "import pandas as pd\n",
    "\n",
    "driver = get_driver()\n",
    "driver.get(results_url)\n",
    "\n",
    "accept_cookies_id, close_advert_id = \"onetrust-accept-btn-handler\", \"advertClose\"\n",
    "\n",
    "try:\n",
    "    accept_cookies_element = WebDriverWait(driver, 10).until(\n",
    "        EC.presence_of_element_located((By.ID, accept_cookies_id))\n",
    "    ).click()\n",
    "\n",
    "    close_advert_element = WebDriverWait(driver, 10).until(\n",
    "        EC.presence_of_element_located((By.ID, close_advert_id))\n",
    "    ).click()\n",
    "\n",
    "    # Scroll to footer to activate JavaScript load of data\n",
    "    ActionChains(driver).scroll_to_element(\n",
    "        WebDriverWait(driver, 10).until(\n",
    "            EC.presence_of_element_located((By.TAG_NAME, \"footer\"))\n",
    "        )\n",
    "    ).perform()\n",
    "\n",
    "    # waiting until all the data has loaded onto the page\n",
    "    date_string_to_find = \"Friday 11 August 2023\"\n",
    "    date_xpath = f\"//*[contains(text(),'{date_string_to_find}')]\"\n",
    "    WebDriverWait(driver, 10).until(\n",
    "        EC.presence_of_element_located((By.XPATH, date_xpath))\n",
    "    )\n",
    "\n",
    "    # Once we fetch the HTML, we can use beautifulsoup to parse through the webpage\n",
    "    pl_html = driver.find_element(By.TAG_NAME, \"html\").get_attribute(\"innerHTML\")\n",
    "    driver.quit()\n",
    "    \n",
    "    soup = bs(pl_html, \"html.parser\")\n",
    "\n",
    "    dates, home, away, home_score, away_score, stadium = [], [], [], [], [], []\n",
    "    col_names = \"date\", \"home\", \"away\", \"home_score\", \"away_score\", \"stadium\"\n",
    "\n",
    "    for date in soup.select(\".fixtures__date-container\"):\n",
    "        match_date = date.find(\"time\").text\n",
    "        for _ in range(len(date.select(\".match-fixture\"))):\n",
    "            dates.append(match_date)\n",
    "\n",
    "    match_list= [i for i in soup.select(\".matchList > .match-fixture\")]\n",
    "    home = [i['data-home'] for i in match_list]\n",
    "    away = [i['data-away'] for i in match_list]\n",
    "    scores = [i.text.split(\"-\") for i in soup.select(\".match-fixture__score\")]\n",
    "    home_score = [score[0] for score in scores]\n",
    "    away_score = [score[1] for score in scores]\n",
    "    stadium = [i['data-venue'] for i in match_list]\n",
    "\n",
    "    cols = [dates, home, away, home_score, away_score, stadium]\n",
    "    data = dict()\n",
    "    for i in range(len(col_names)):\n",
    "        data[col_names[i]] = cols[i]\n",
    "\n",
    "    df = pd.DataFrame(data=data)\n",
    "    print(df)\n",
    "except Exception as e:\n",
    "    print(\"There was an error.\")\n",
    "    print(e)"
   ]
  },
  {
   "cell_type": "markdown",
   "metadata": {},
   "source": [
    "# Scrolling using"
   ]
  },
  {
   "cell_type": "markdown",
   "metadata": {},
   "source": [
    "# Page Object Model Design Pattern"
   ]
  },
  {
   "cell_type": "markdown",
   "metadata": {},
   "source": [
    "For more information:\n",
    "- https://selenium-python.readthedocs.io/"
   ]
  }
 ],
 "metadata": {
  "kernelspec": {
   "display_name": "Python 3",
   "language": "python",
   "name": "python3"
  },
  "language_info": {
   "codemirror_mode": {
    "name": "ipython",
    "version": 3
   },
   "file_extension": ".py",
   "mimetype": "text/x-python",
   "name": "python",
   "nbconvert_exporter": "python",
   "pygments_lexer": "ipython3",
   "version": "3.11.2"
  }
 },
 "nbformat": 4,
 "nbformat_minor": 2
}
